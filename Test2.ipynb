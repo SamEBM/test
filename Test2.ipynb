{
    "cells": [
        {
            "cell_type": "code",
            "execution_count": 1,
            "metadata": {},
            "outputs": [
                {
                    "name": "stdout",
                    "output_type": "stream",
                    "text": "Waiting for a Spark session to start...\nSpark Initialization Done! ApplicationId = app-20200807194757-0000\nKERNEL_ID = cc375104-bc5a-41c2-809e-2f7de7354f39\n"
                },
                {
                    "data": {
                        "text/plain": "[Row(_c0='0', ID='158023', Name='L. Messi', Age='31', Photo='https://cdn.sofifa.org/players/4/19/158023.png', Nationality='Argentina', Flag='https://cdn.sofifa.org/flags/52.png', Overall='94', Potential='94', Club='FC Barcelona', Club Logo='https://cdn.sofifa.org/teams/2/light/241.png', Value='\u20ac110.5M', Wage='\u20ac565K', Special='2202', Preferred Foot='Left', International Reputation='5', Weak Foot='4', Skill Moves='4', Work Rate='Medium/ Medium', Body Type='Messi', Real Face='Yes', Position='RF', Jersey Number='10', Joined='Jul 1, 2004', Loaned From=None, Contract Valid Until='2021', Height=\"5'7\", Weight='159lbs', LS='88+2', ST='88+2', RS='88+2', LW='92+2', LF='93+2', CF='93+2', RF='93+2', RW='92+2', LAM='93+2', CAM='93+2', RAM='93+2', LM='91+2', LCM='84+2', CM='84+2', RCM='84+2', RM='91+2', LWB='64+2', LDM='61+2', CDM='61+2', RDM='61+2', RWB='64+2', LB='59+2', LCB='47+2', CB='47+2', RCB='47+2', RB='59+2', Crossing='84', Finishing='95', HeadingAccuracy='70', ShortPassing='90', Volleys='86', Dribbling='97', Curve='93', FKAccuracy='94', LongPassing='87', BallControl='96', Acceleration='91', SprintSpeed='86', Agility='91', Reactions='95', Balance='95', ShotPower='85', Jumping='68', Stamina='72', Strength='59', LongShots='94', Aggression='48', Interceptions='22', Positioning='94', Vision='94', Penalties='75', Composure='96', Marking='33', StandingTackle='28', SlidingTackle='26', GKDiving='6', GKHandling='11', GKKicking='15', GKPositioning='14', GKReflexes='8', Release Clause='\u20ac226.5M'),\n Row(_c0='1', ID='20801', Name='Cristiano Ronaldo', Age='33', Photo='https://cdn.sofifa.org/players/4/19/20801.png', Nationality='Portugal', Flag='https://cdn.sofifa.org/flags/38.png', Overall='94', Potential='94', Club='Juventus', Club Logo='https://cdn.sofifa.org/teams/2/light/45.png', Value='\u20ac77M', Wage='\u20ac405K', Special='2228', Preferred Foot='Right', International Reputation='5', Weak Foot='4', Skill Moves='5', Work Rate='High/ Low', Body Type='C. Ronaldo', Real Face='Yes', Position='ST', Jersey Number='7', Joined='Jul 10, 2018', Loaned From=None, Contract Valid Until='2022', Height=\"6'2\", Weight='183lbs', LS='91+3', ST='91+3', RS='91+3', LW='89+3', LF='90+3', CF='90+3', RF='90+3', RW='89+3', LAM='88+3', CAM='88+3', RAM='88+3', LM='88+3', LCM='81+3', CM='81+3', RCM='81+3', RM='88+3', LWB='65+3', LDM='61+3', CDM='61+3', RDM='61+3', RWB='65+3', LB='61+3', LCB='53+3', CB='53+3', RCB='53+3', RB='61+3', Crossing='84', Finishing='94', HeadingAccuracy='89', ShortPassing='81', Volleys='87', Dribbling='88', Curve='81', FKAccuracy='76', LongPassing='77', BallControl='94', Acceleration='89', SprintSpeed='91', Agility='87', Reactions='96', Balance='70', ShotPower='95', Jumping='95', Stamina='88', Strength='79', LongShots='93', Aggression='63', Interceptions='29', Positioning='95', Vision='82', Penalties='85', Composure='95', Marking='28', StandingTackle='31', SlidingTackle='23', GKDiving='7', GKHandling='11', GKKicking='15', GKPositioning='14', GKReflexes='11', Release Clause='\u20ac127.1M'),\n Row(_c0='2', ID='190871', Name='Neymar Jr', Age='26', Photo='https://cdn.sofifa.org/players/4/19/190871.png', Nationality='Brazil', Flag='https://cdn.sofifa.org/flags/54.png', Overall='92', Potential='93', Club='Paris Saint-Germain', Club Logo='https://cdn.sofifa.org/teams/2/light/73.png', Value='\u20ac118.5M', Wage='\u20ac290K', Special='2143', Preferred Foot='Right', International Reputation='5', Weak Foot='5', Skill Moves='5', Work Rate='High/ Medium', Body Type='Neymar', Real Face='Yes', Position='LW', Jersey Number='10', Joined='Aug 3, 2017', Loaned From=None, Contract Valid Until='2022', Height=\"5'9\", Weight='150lbs', LS='84+3', ST='84+3', RS='84+3', LW='89+3', LF='89+3', CF='89+3', RF='89+3', RW='89+3', LAM='89+3', CAM='89+3', RAM='89+3', LM='88+3', LCM='81+3', CM='81+3', RCM='81+3', RM='88+3', LWB='65+3', LDM='60+3', CDM='60+3', RDM='60+3', RWB='65+3', LB='60+3', LCB='47+3', CB='47+3', RCB='47+3', RB='60+3', Crossing='79', Finishing='87', HeadingAccuracy='62', ShortPassing='84', Volleys='84', Dribbling='96', Curve='88', FKAccuracy='87', LongPassing='78', BallControl='95', Acceleration='94', SprintSpeed='90', Agility='96', Reactions='94', Balance='84', ShotPower='80', Jumping='61', Stamina='81', Strength='49', LongShots='82', Aggression='56', Interceptions='36', Positioning='89', Vision='87', Penalties='81', Composure='94', Marking='27', StandingTackle='24', SlidingTackle='33', GKDiving='9', GKHandling='9', GKKicking='15', GKPositioning='15', GKReflexes='11', Release Clause='\u20ac228.1M'),\n Row(_c0='3', ID='193080', Name='De Gea', Age='27', Photo='https://cdn.sofifa.org/players/4/19/193080.png', Nationality='Spain', Flag='https://cdn.sofifa.org/flags/45.png', Overall='91', Potential='93', Club='Manchester United', Club Logo='https://cdn.sofifa.org/teams/2/light/11.png', Value='\u20ac72M', Wage='\u20ac260K', Special='1471', Preferred Foot='Right', International Reputation='4', Weak Foot='3', Skill Moves='1', Work Rate='Medium/ Medium', Body Type='Lean', Real Face='Yes', Position='GK', Jersey Number='1', Joined='Jul 1, 2011', Loaned From=None, Contract Valid Until='2020', Height=\"6'4\", Weight='168lbs', LS=None, ST=None, RS=None, LW=None, LF=None, CF=None, RF=None, RW=None, LAM=None, CAM=None, RAM=None, LM=None, LCM=None, CM=None, RCM=None, RM=None, LWB=None, LDM=None, CDM=None, RDM=None, RWB=None, LB=None, LCB=None, CB=None, RCB=None, RB=None, Crossing='17', Finishing='13', HeadingAccuracy='21', ShortPassing='50', Volleys='13', Dribbling='18', Curve='21', FKAccuracy='19', LongPassing='51', BallControl='42', Acceleration='57', SprintSpeed='58', Agility='60', Reactions='90', Balance='43', ShotPower='31', Jumping='67', Stamina='43', Strength='64', LongShots='12', Aggression='38', Interceptions='30', Positioning='12', Vision='68', Penalties='40', Composure='68', Marking='15', StandingTackle='21', SlidingTackle='13', GKDiving='90', GKHandling='85', GKKicking='87', GKPositioning='88', GKReflexes='94', Release Clause='\u20ac138.6M'),\n Row(_c0='4', ID='192985', Name='K. De Bruyne', Age='27', Photo='https://cdn.sofifa.org/players/4/19/192985.png', Nationality='Belgium', Flag='https://cdn.sofifa.org/flags/7.png', Overall='91', Potential='92', Club='Manchester City', Club Logo='https://cdn.sofifa.org/teams/2/light/10.png', Value='\u20ac102M', Wage='\u20ac355K', Special='2281', Preferred Foot='Right', International Reputation='4', Weak Foot='5', Skill Moves='4', Work Rate='High/ High', Body Type='Normal', Real Face='Yes', Position='RCM', Jersey Number='7', Joined='Aug 30, 2015', Loaned From=None, Contract Valid Until='2023', Height=\"5'11\", Weight='154lbs', LS='82+3', ST='82+3', RS='82+3', LW='87+3', LF='87+3', CF='87+3', RF='87+3', RW='87+3', LAM='88+3', CAM='88+3', RAM='88+3', LM='88+3', LCM='87+3', CM='87+3', RCM='87+3', RM='88+3', LWB='77+3', LDM='77+3', CDM='77+3', RDM='77+3', RWB='77+3', LB='73+3', LCB='66+3', CB='66+3', RCB='66+3', RB='73+3', Crossing='93', Finishing='82', HeadingAccuracy='55', ShortPassing='92', Volleys='82', Dribbling='86', Curve='85', FKAccuracy='83', LongPassing='91', BallControl='91', Acceleration='78', SprintSpeed='76', Agility='79', Reactions='91', Balance='77', ShotPower='91', Jumping='63', Stamina='90', Strength='75', LongShots='91', Aggression='76', Interceptions='61', Positioning='87', Vision='94', Penalties='79', Composure='88', Marking='68', StandingTackle='58', SlidingTackle='51', GKDiving='15', GKHandling='13', GKKicking='5', GKPositioning='10', GKReflexes='13', Release Clause='\u20ac196.4M')]"
                    },
                    "execution_count": 1,
                    "metadata": {},
                    "output_type": "execute_result"
                }
            ],
            "source": "# The code was removed by Watson Studio for sharing."
        },
        {
            "cell_type": "code",
            "execution_count": null,
            "metadata": {},
            "outputs": [],
            "source": ""
        }
    ],
    "metadata": {
        "kernelspec": {
            "display_name": "Python 3.6 with Spark",
            "language": "python3",
            "name": "python36"
        },
        "language_info": {
            "codemirror_mode": {
                "name": "ipython",
                "version": 3
            },
            "file_extension": ".py",
            "mimetype": "text/x-python",
            "name": "python",
            "nbconvert_exporter": "python",
            "pygments_lexer": "ipython3",
            "version": "3.6.8"
        }
    },
    "nbformat": 4,
    "nbformat_minor": 1
}